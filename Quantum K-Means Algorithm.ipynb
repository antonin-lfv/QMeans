{
 "cells": [
  {
   "cell_type": "markdown",
   "metadata": {},
   "source": []
  },
  {
   "cell_type": "markdown",
   "metadata": {},
   "source": [
    "\n",
    "\n",
    "# _*Quantum K-Means algorithm*_ \n",
    "\n",
    "The latest version of this notebook is available on https://github.com/qiskit/qiskit-tutorial.\n",
    "\n",
    "***\n",
    "### Contributors \n",
    "Shan Jin, Xi He, Xiaokai Hou, Li Sun, Dingding Wen, Shaojun Wu and Xiaoting Wang$^{1}$\n",
    "\n",
    "1. Institute of Fundamental and Frontier Sciences, University of Electronic Science and Technology of China，Chengdu, China，610051\n",
    "***"
   ]
  },
  {
   "cell_type": "markdown",
   "metadata": {},
   "source": [
    "## Introduction\n",
    "Clustering algorithm is a typical unsupervised learning algorithm, which is mainly used to automatically classify similar samples into one category.In the clustering algorithm, according to the similarity between the samples, the samples are divided into different categories. For different similarity calculation methods, different clustering results will be obtained. The commonly used similarity calculation method is the Euclidean distance method.\n",
    "What we want to show is the quantum K-Means algorithm. The K-Means algorithm is a distance-based clustering algorithm that uses distance as an evaluation index for similarity, that is, the closer the distance between two objects is, the greater the similarity. The algorithm considers the cluster to be composed of objects that are close together, so the compact and independent cluster is the ultimate target.\n",
    "\n",
    "\n",
    "#### Experiment design\n",
    "The implementation of the quantum K-Means algorithm mainly uses the swap test to compare the distances among the input data points. Select K points randomly from N data points as centroids, measure the distance from each point to each centroid, and assign it to the nearest centroid- class, recalculate centroids of each class that has been obtained, and iterate 2 to 3 steps until the new centroid is equal to or less than the specified threshold, and the algorithm ends. In our example, we selected 6 data points, 2 centroids, and used the swap test circuit to calculate the distance. Finally, we obtained two clusters of data points.\n",
    "$|0\\rangle$ is an auxiliary qubit, through left $H$ gate, it will be changed to $\\frac{1}{\\sqrt{2}}(|0\\rangle + |1\\rangle)$. Then under the control of $|1\\rangle$, the circuit will swap two vectors $|x\\rangle$ and $|y\\rangle$. Finally, we get the result at the right end of the circuit:\n",
    "$$|0_{anc}\\rangle |x\\rangle |y\\rangle \\rightarrow \\frac{1}{2}|0_{anc}\\rangle(|xy\\rangle + |yx\\rangle) + \\frac{1}{2}|1_{anc}\\rangle(|xy\\rangle - |yx\\rangle)$$\n",
    "If we measure auxiliary qubit alone, then the probability of final state in the ground state $|1\\rangle$ is:\n",
    "$$P(|1_{anc}\\rangle) = \\frac{1}{2} - \\frac{1}{2}|\\langle x | y \\rangle|^2$$\n",
    "If we measure auxiliary qubit alone, then the probability of final state in the ground state $|1\\rangle$ is:\n",
    "$$Euclidean \\ distance = \\sqrt{(2 - 2|\\langle x | y \\rangle|)}$$\n",
    "So, we can see that the probability of measuring $|1\\rangle$ has positive correlation with the Euclidean distance.\n",
    "The schematic diagram of quantum K-Means is as the follow picture.[[1]](#cite) \n",
    "<img src=\"images/k_means_circuit.png\">\n",
    "To make our algorithm can be run using qiskit, we design a more detailed circuit to achieve our algorithm. \n",
    "|\n",
    "#### Quantum K-Means circuit\n",
    "<img src=\"images/k_means.png\">"
   ]
  },
  {
   "cell_type": "markdown",
   "metadata": {},
   "source": [
    "## Data points\n",
    "<table border=\"1\">\n",
    "<tr>\n",
    "<td>point num</td>\n",
    "<td>theta</td>\n",
    "<td>phi</td>\n",
    "<td>lam</td>\n",
    "<td>x</td>\n",
    "<td>y</td>\n",
    "</tr>\n",
    "<tr>\n",
    "<td>1</td>\n",
    "<td>0.01</td>\n",
    "<td>pi</td>\n",
    "<td>pi</td>\n",
    "<td>0.710633</td>\n",
    "<td>0.703562</td>\n",
    "</tr>\n",
    "<tr>\n",
    "<td>2</td>\n",
    "<td>0.02</td>\n",
    "<td>pi</td>\n",
    "<td>pi</td>\n",
    "<td>0.714142</td>\n",
    "<td>0.7</td>\n",
    "</tr>\n",
    "<tr>\n",
    "<td>3</td>\n",
    "<td>0.03</td>\n",
    "<td>pi</td>\n",
    "<td>pi</td>\n",
    "<td>0.717633</td>\n",
    "<td>0.696421</td>\n",
    "</tr>\n",
    "<tr>\n",
    "<td>4</td>\n",
    "<td>0.04</td>\n",
    "<td>pi</td>\n",
    "<td>pi</td>\n",
    "<td>0.721107</td>\n",
    "<td>0.692824</td>\n",
    "</tr>\n",
    "<tr>\n",
    "<td>5</td>\n",
    "<td>0.05</td>\n",
    "<td>pi</td>\n",
    "<td>pi</td>\n",
    "<td>0.724562</td>\n",
    "<td>0.68921</td>\n",
    "</tr>\n",
    "<tr>\n",
    "<td>6</td>\n",
    "<td>1.31</td>\n",
    "<td>pi</td>\n",
    "<td>pi</td>\n",
    "<td>0.886811</td>\n",
    "<td>0.462132</td>\n",
    "</tr>\n",
    "<tr>\n",
    "<td>7</td>\n",
    "<td>1.32</td>\n",
    "<td>pi</td>\n",
    "<td>pi</td>\n",
    "<td>0.889111</td>\n",
    "<td>0.457692</td>\n",
    "</tr>\n",
    "<tr>\n",
    "<td>8</td>\n",
    "<td>1.33</td>\n",
    "<td>pi</td>\n",
    "<td>pi</td>\n",
    "<td>0.891388</td>\n",
    "<td>0.453241</td>\n",
    "</tr>\n",
    "<tr>\n",
    "<td>9</td>\n",
    "<td>1.34</td>\n",
    "<td>pi</td>\n",
    "<td>pi</td>\n",
    "<td>0.893643</td>\n",
    "<td>0.448779</td>\n",
    "</tr>\n",
    "<tr>\n",
    "<td>10</td>\n",
    "<td>1.35</td>\n",
    "<td>pi</td>\n",
    "<td>pi</td>\n",
    "<td>0.895876</td>\n",
    "<td>0.444305</td>\n",
    "</tr>\n"
   ]
  },
  {
   "cell_type": "markdown",
   "metadata": {},
   "source": [
    "## Quantum K-Means algorithm program"
   ]
  },
  {
   "cell_type": "code",
   "execution_count": 3,
   "metadata": {
    "ExecuteTime": {
     "start_time": "2023-09-03T17:38:03.097484Z",
     "end_time": "2023-09-03T17:38:03.100005Z"
    }
   },
   "outputs": [],
   "source": [
    "# import math lib\n",
    "from math import pi\n",
    "\n",
    "# import Qiskit\n",
    "from qiskit import Aer, IBMQ, execute\n",
    "from qiskit import QuantumCircuit, ClassicalRegister, QuantumRegister\n",
    "\n",
    "# import basic plot tools\n",
    "from qiskit.tools.visualization import plot_histogram"
   ]
  },
  {
   "cell_type": "code",
   "execution_count": 4,
   "metadata": {
    "ExecuteTime": {
     "start_time": "2023-09-03T17:38:05.025448Z",
     "end_time": "2023-09-03T17:38:05.031162Z"
    }
   },
   "outputs": [],
   "source": [
    "# To use local qasm simulator\n",
    "backend = Aer.get_backend('qasm_simulator')"
   ]
  },
  {
   "cell_type": "markdown",
   "metadata": {},
   "source": [
    "In this section, we first judge the version of Python and import the packages of qiskit, math to implement the following code. We show our algorithm on the ibm_qasm_simulator, if you need to run it on the real quantum conputer, please remove the \"#\" in frint of \"import Qconfig\"."
   ]
  },
  {
   "cell_type": "code",
   "execution_count": 5,
   "metadata": {
    "ExecuteTime": {
     "start_time": "2023-09-03T17:38:12.469777Z",
     "end_time": "2023-09-03T17:38:12.475237Z"
    }
   },
   "outputs": [],
   "source": [
    "theta_list = [0.01, 0.02, 0.03, 0.04, 0.05, 1.31, 1.32, 1.33, 1.34, 1.35]"
   ]
  },
  {
   "cell_type": "markdown",
   "metadata": {},
   "source": [
    "Here we define the number pi in the math lib, because we need to use u3 gate. And we also define a list about the parameter theta which we need to use in the u3 gate. As the same above, if you want to implement on the real quantum comnputer, please remove the symbol \"#\" and configure your local Qconfig.py file. "
   ]
  },
  {
   "cell_type": "code",
   "execution_count": 7,
   "metadata": {
    "scrolled": true,
    "ExecuteTime": {
     "start_time": "2023-09-03T17:38:45.274139Z",
     "end_time": "2023-09-03T17:38:51.161940Z"
    }
   },
   "outputs": [
    {
     "name": "stdout",
     "output_type": "stream",
     "text": [
      "Result(backend_name='qasm_simulator', backend_version='0.12.2', qobj_id='', job_id='92f46676-a27e-418d-bf00-97584fef894c', success=True, results=[ExperimentResult(shots=1024, success=True, meas_level=2, data=ExperimentResultData(counts={'0x0': 1024}), header=QobjExperimentHeader(creg_sizes=[['cr', 5]], global_phase=4.440892098500626e-16, memory_slots=5, n_qubits=5, name='k_means', qreg_sizes=[['qr', 5]], metadata={}), status=DONE, seed_simulator=3258174304, metadata={'parallel_state_update': 8, 'parallel_shots': 1, 'sample_measure_time': 0.000194583, 'noise': 'ideal', 'batched_shots_optimization': False, 'remapped_qubits': True, 'device': 'CPU', 'active_input_qubits': [1, 2, 4], 'measure_sampling': True, 'num_clbits': 5, 'input_qubit_map': [[4, 2], [2, 1], [1, 0]], 'num_qubits': 3, 'method': 'statevector', 'fusion': {'applied': False, 'max_fused_qubits': 5, 'threshold': 14, 'enabled': True}}, time_taken=0.000787292)], date=2023-09-03T17:38:45.327438, status=COMPLETED, header=None, metadata={'mpi_rank': 0, 'num_mpi_processes': 1, 'num_processes_per_experiments': 1, 'max_gpu_memory_mb': 0, 'time_taken_execute': 0.000834542, 'max_memory_mb': 16384, 'parallel_experiments': 1, 'omp_enabled': True}, time_taken=0.0014431476593017578)\n",
      "theta_1:0.01\n",
      "theta_2:0.02\n",
      "Result(backend_name='qasm_simulator', backend_version='0.12.2', qobj_id='', job_id='0e86da2f-70d2-40e7-923f-da0a0aa47cbb', success=True, results=[ExperimentResult(shots=1024, success=True, meas_level=2, data=ExperimentResultData(counts={'0x0': 1024}), header=QobjExperimentHeader(creg_sizes=[['cr', 5]], global_phase=8.881784197001252e-16, memory_slots=5, n_qubits=5, name='k_means', qreg_sizes=[['qr', 5]], metadata={}), status=DONE, seed_simulator=2856499015, metadata={'noise': 'ideal', 'batched_shots_optimization': False, 'remapped_qubits': True, 'parallel_state_update': 1, 'parallel_shots': 8, 'device': 'CPU', 'active_input_qubits': [1, 2, 4], 'measure_sampling': False, 'num_clbits': 5, 'input_qubit_map': [[4, 2], [2, 1], [1, 0]], 'num_qubits': 3, 'method': 'statevector', 'fusion': {'applied': False, 'max_fused_qubits': 5, 'threshold': 14, 'enabled': True}}, time_taken=0.020684875)], date=2023-09-03T17:38:45.792493, status=COMPLETED, header=None, metadata={'mpi_rank': 0, 'num_mpi_processes': 1, 'num_processes_per_experiments': 1, 'max_gpu_memory_mb': 0, 'time_taken_execute': 0.020717208, 'max_memory_mb': 16384, 'parallel_experiments': 1, 'omp_enabled': True}, time_taken=0.02123093605041504)\n",
      "theta_1:0.01\n",
      "theta_2:0.03\n",
      "Result(backend_name='qasm_simulator', backend_version='0.12.2', qobj_id='', job_id='c3aa3f92-145f-4abb-b464-09c8b0a816e7', success=True, results=[ExperimentResult(shots=1024, success=True, meas_level=2, data=ExperimentResultData(counts={'0x0': 1024}), header=QobjExperimentHeader(creg_sizes=[['cr', 5]], global_phase=1.3322676295501878e-15, memory_slots=5, n_qubits=5, name='k_means', qreg_sizes=[['qr', 5]], metadata={}), status=DONE, seed_simulator=1498428546, metadata={'noise': 'ideal', 'batched_shots_optimization': False, 'remapped_qubits': True, 'parallel_state_update': 1, 'parallel_shots': 8, 'device': 'CPU', 'active_input_qubits': [1, 2, 4], 'measure_sampling': False, 'num_clbits': 5, 'input_qubit_map': [[4, 2], [2, 1], [1, 0]], 'num_qubits': 3, 'method': 'statevector', 'fusion': {'applied': False, 'max_fused_qubits': 5, 'threshold': 14, 'enabled': True}}, time_taken=0.012955792)], date=2023-09-03T17:38:45.821034, status=COMPLETED, header=None, metadata={'mpi_rank': 0, 'num_mpi_processes': 1, 'num_processes_per_experiments': 1, 'max_gpu_memory_mb': 0, 'time_taken_execute': 0.012994167, 'max_memory_mb': 16384, 'parallel_experiments': 1, 'omp_enabled': True}, time_taken=0.013458728790283203)\n",
      "theta_1:0.01\n",
      "theta_2:0.04\n",
      "Result(backend_name='qasm_simulator', backend_version='0.12.2', qobj_id='', job_id='525d0fe0-7d06-4eb3-9c65-ed0dc04c17bc', success=True, results=[ExperimentResult(shots=1024, success=True, meas_level=2, data=ExperimentResultData(counts={'0x0': 1024}), header=QobjExperimentHeader(creg_sizes=[['cr', 5]], global_phase=1.7763568394002505e-15, memory_slots=5, n_qubits=5, name='k_means', qreg_sizes=[['qr', 5]], metadata={}), status=DONE, seed_simulator=722027240, metadata={'noise': 'ideal', 'batched_shots_optimization': False, 'remapped_qubits': True, 'parallel_state_update': 1, 'parallel_shots': 8, 'device': 'CPU', 'active_input_qubits': [1, 2, 4], 'measure_sampling': False, 'num_clbits': 5, 'input_qubit_map': [[4, 2], [2, 1], [1, 0]], 'num_qubits': 3, 'method': 'statevector', 'fusion': {'applied': False, 'max_fused_qubits': 5, 'threshold': 14, 'enabled': True}}, time_taken=0.017877)], date=2023-09-03T17:38:45.853360, status=COMPLETED, header=None, metadata={'mpi_rank': 0, 'num_mpi_processes': 1, 'num_processes_per_experiments': 1, 'max_gpu_memory_mb': 0, 'time_taken_execute': 0.017913916, 'max_memory_mb': 16384, 'parallel_experiments': 1, 'omp_enabled': True}, time_taken=0.01844620704650879)\n",
      "theta_1:0.01\n",
      "theta_2:0.05\n",
      "Result(backend_name='qasm_simulator', backend_version='0.12.2', qobj_id='', job_id='eb754b90-63fe-448e-9691-22c2213171ae', success=True, results=[ExperimentResult(shots=1024, success=True, meas_level=2, data=ExperimentResultData(counts={'0x0': 850, '0x4': 174}), header=QobjExperimentHeader(creg_sizes=[['cr', 5]], global_phase=1.9984014443252818e-15, memory_slots=5, n_qubits=5, name='k_means', qreg_sizes=[['qr', 5]], metadata={}), status=DONE, seed_simulator=1799639760, metadata={'noise': 'ideal', 'batched_shots_optimization': False, 'remapped_qubits': True, 'parallel_state_update': 1, 'parallel_shots': 8, 'device': 'CPU', 'active_input_qubits': [1, 2, 4], 'measure_sampling': False, 'num_clbits': 5, 'input_qubit_map': [[4, 2], [2, 1], [1, 0]], 'num_qubits': 3, 'method': 'statevector', 'fusion': {'applied': False, 'max_fused_qubits': 5, 'threshold': 14, 'enabled': True}}, time_taken=0.021179334)], date=2023-09-03T17:38:45.894665, status=COMPLETED, header=None, metadata={'mpi_rank': 0, 'num_mpi_processes': 1, 'num_processes_per_experiments': 1, 'max_gpu_memory_mb': 0, 'time_taken_execute': 0.021218292, 'max_memory_mb': 16384, 'parallel_experiments': 1, 'omp_enabled': True}, time_taken=0.021903038024902344)\n",
      "theta_1:0.01\n",
      "theta_2:1.31\n",
      "Result(backend_name='qasm_simulator', backend_version='0.12.2', qobj_id='', job_id='8570bd8b-1ea0-44a9-a953-b603654cd9a0', success=True, results=[ExperimentResult(shots=1024, success=True, meas_level=2, data=ExperimentResultData(counts={'0x4': 198, '0x0': 826}), header=QobjExperimentHeader(creg_sizes=[['cr', 5]], global_phase=2.220446049250313e-15, memory_slots=5, n_qubits=5, name='k_means', qreg_sizes=[['qr', 5]], metadata={}), status=DONE, seed_simulator=3258384991, metadata={'noise': 'ideal', 'batched_shots_optimization': False, 'remapped_qubits': True, 'parallel_state_update': 1, 'parallel_shots': 8, 'device': 'CPU', 'active_input_qubits': [1, 2, 4], 'measure_sampling': False, 'num_clbits': 5, 'input_qubit_map': [[4, 2], [2, 1], [1, 0]], 'num_qubits': 3, 'method': 'statevector', 'fusion': {'applied': False, 'max_fused_qubits': 5, 'threshold': 14, 'enabled': True}}, time_taken=0.026321875)], date=2023-09-03T17:38:45.944861, status=COMPLETED, header=None, metadata={'mpi_rank': 0, 'num_mpi_processes': 1, 'num_processes_per_experiments': 1, 'max_gpu_memory_mb': 0, 'time_taken_execute': 0.026356709, 'max_memory_mb': 16384, 'parallel_experiments': 1, 'omp_enabled': True}, time_taken=0.027148008346557617)\n",
      "theta_1:0.01\n",
      "theta_2:1.32\n",
      "Result(backend_name='qasm_simulator', backend_version='0.12.2', qobj_id='', job_id='b61ca6b1-fa17-4f1e-aa5a-6b98f117877e', success=True, results=[ExperimentResult(shots=1024, success=True, meas_level=2, data=ExperimentResultData(counts={'0x4': 189, '0x0': 835}), header=QobjExperimentHeader(creg_sizes=[['cr', 5]], global_phase=2.4424906541753444e-15, memory_slots=5, n_qubits=5, name='k_means', qreg_sizes=[['qr', 5]], metadata={}), status=DONE, seed_simulator=621030508, metadata={'noise': 'ideal', 'batched_shots_optimization': False, 'remapped_qubits': True, 'parallel_state_update': 1, 'parallel_shots': 8, 'device': 'CPU', 'active_input_qubits': [1, 2, 4], 'measure_sampling': False, 'num_clbits': 5, 'input_qubit_map': [[4, 2], [2, 1], [1, 0]], 'num_qubits': 3, 'method': 'statevector', 'fusion': {'applied': False, 'max_fused_qubits': 5, 'threshold': 14, 'enabled': True}}, time_taken=0.03031075)], date=2023-09-03T17:38:46.012846, status=COMPLETED, header=None, metadata={'mpi_rank': 0, 'num_mpi_processes': 1, 'num_processes_per_experiments': 1, 'max_gpu_memory_mb': 0, 'time_taken_execute': 0.030346125, 'max_memory_mb': 16384, 'parallel_experiments': 1, 'omp_enabled': True}, time_taken=0.031346797943115234)\n",
      "theta_1:0.01\n",
      "theta_2:1.33\n",
      "Result(backend_name='qasm_simulator', backend_version='0.12.2', qobj_id='', job_id='8832cfa0-e536-4c69-a061-feaaa6f3e244', success=True, results=[ExperimentResult(shots=1024, success=True, meas_level=2, data=ExperimentResultData(counts={'0x4': 193, '0x0': 831}), header=QobjExperimentHeader(creg_sizes=[['cr', 5]], global_phase=2.6645352591003757e-15, memory_slots=5, n_qubits=5, name='k_means', qreg_sizes=[['qr', 5]], metadata={}), status=DONE, seed_simulator=2685873803, metadata={'noise': 'ideal', 'batched_shots_optimization': False, 'remapped_qubits': True, 'parallel_state_update': 1, 'parallel_shots': 8, 'device': 'CPU', 'active_input_qubits': [1, 2, 4], 'measure_sampling': False, 'num_clbits': 5, 'input_qubit_map': [[4, 2], [2, 1], [1, 0]], 'num_qubits': 3, 'method': 'statevector', 'fusion': {'applied': False, 'max_fused_qubits': 5, 'threshold': 14, 'enabled': True}}, time_taken=0.032822709)], date=2023-09-03T17:38:46.063462, status=COMPLETED, header=None, metadata={'mpi_rank': 0, 'num_mpi_processes': 1, 'num_processes_per_experiments': 1, 'max_gpu_memory_mb': 0, 'time_taken_execute': 0.032863584, 'max_memory_mb': 16384, 'parallel_experiments': 1, 'omp_enabled': True}, time_taken=0.03364086151123047)\n",
      "theta_1:0.01\n",
      "theta_2:1.34\n",
      "Result(backend_name='qasm_simulator', backend_version='0.12.2', qobj_id='', job_id='98667856-2064-463a-9d2f-7fbbc615c471', success=True, results=[ExperimentResult(shots=1024, success=True, meas_level=2, data=ExperimentResultData(counts={'0x4': 193, '0x0': 831}), header=QobjExperimentHeader(creg_sizes=[['cr', 5]], global_phase=2.886579864025407e-15, memory_slots=5, n_qubits=5, name='k_means', qreg_sizes=[['qr', 5]], metadata={}), status=DONE, seed_simulator=3597295858, metadata={'noise': 'ideal', 'batched_shots_optimization': False, 'remapped_qubits': True, 'parallel_state_update': 1, 'parallel_shots': 8, 'device': 'CPU', 'active_input_qubits': [1, 2, 4], 'measure_sampling': False, 'num_clbits': 5, 'input_qubit_map': [[4, 2], [2, 1], [1, 0]], 'num_qubits': 3, 'method': 'statevector', 'fusion': {'applied': False, 'max_fused_qubits': 5, 'threshold': 14, 'enabled': True}}, time_taken=0.037178625)], date=2023-09-03T17:38:46.120800, status=COMPLETED, header=None, metadata={'mpi_rank': 0, 'num_mpi_processes': 1, 'num_processes_per_experiments': 1, 'max_gpu_memory_mb': 0, 'time_taken_execute': 0.037222, 'max_memory_mb': 16384, 'parallel_experiments': 1, 'omp_enabled': True}, time_taken=0.03805208206176758)\n",
      "theta_1:0.01\n",
      "theta_2:1.35\n",
      "Result(backend_name='qasm_simulator', backend_version='0.12.2', qobj_id='', job_id='c3f8a1a2-f916-4e41-ac84-cd5fc70dfb0a', success=True, results=[ExperimentResult(shots=1024, success=True, meas_level=2, data=ExperimentResultData(counts={'0x0': 1024}), header=QobjExperimentHeader(creg_sizes=[['cr', 5]], global_phase=3.3306690738754696e-15, memory_slots=5, n_qubits=5, name='k_means', qreg_sizes=[['qr', 5]], metadata={}), status=DONE, seed_simulator=1318160035, metadata={'noise': 'ideal', 'batched_shots_optimization': False, 'remapped_qubits': True, 'parallel_state_update': 1, 'parallel_shots': 8, 'device': 'CPU', 'active_input_qubits': [1, 2, 4], 'measure_sampling': False, 'num_clbits': 5, 'input_qubit_map': [[4, 2], [2, 1], [1, 0]], 'num_qubits': 3, 'method': 'statevector', 'fusion': {'applied': False, 'max_fused_qubits': 5, 'threshold': 14, 'enabled': True}}, time_taken=0.041986292)], date=2023-09-03T17:38:46.182972, status=COMPLETED, header=None, metadata={'mpi_rank': 0, 'num_mpi_processes': 1, 'num_processes_per_experiments': 1, 'max_gpu_memory_mb': 0, 'time_taken_execute': 0.042025667, 'max_memory_mb': 16384, 'parallel_experiments': 1, 'omp_enabled': True}, time_taken=0.0429229736328125)\n",
      "theta_1:0.02\n",
      "theta_2:0.03\n",
      "Result(backend_name='qasm_simulator', backend_version='0.12.2', qobj_id='', job_id='26416869-58b5-463b-b2cb-1712e1f8719c', success=True, results=[ExperimentResult(shots=1024, success=True, meas_level=2, data=ExperimentResultData(counts={'0x0': 1024}), header=QobjExperimentHeader(creg_sizes=[['cr', 5]], global_phase=3.774758283725532e-15, memory_slots=5, n_qubits=5, name='k_means', qreg_sizes=[['qr', 5]], metadata={}), status=DONE, seed_simulator=3213779045, metadata={'noise': 'ideal', 'batched_shots_optimization': False, 'remapped_qubits': True, 'parallel_state_update': 1, 'parallel_shots': 8, 'device': 'CPU', 'active_input_qubits': [1, 2, 4], 'measure_sampling': False, 'num_clbits': 5, 'input_qubit_map': [[4, 2], [2, 1], [1, 0]], 'num_qubits': 3, 'method': 'statevector', 'fusion': {'applied': False, 'max_fused_qubits': 5, 'threshold': 14, 'enabled': True}}, time_taken=0.046189708)], date=2023-09-03T17:38:46.250677, status=COMPLETED, header=None, metadata={'mpi_rank': 0, 'num_mpi_processes': 1, 'num_processes_per_experiments': 1, 'max_gpu_memory_mb': 0, 'time_taken_execute': 0.046228375, 'max_memory_mb': 16384, 'parallel_experiments': 1, 'omp_enabled': True}, time_taken=0.04719185829162598)\n",
      "theta_1:0.02\n",
      "theta_2:0.04\n",
      "Result(backend_name='qasm_simulator', backend_version='0.12.2', qobj_id='', job_id='9cfe6de6-32b6-4a59-a23c-b30a9bb0398a', success=True, results=[ExperimentResult(shots=1024, success=True, meas_level=2, data=ExperimentResultData(counts={'0x0': 1024}), header=QobjExperimentHeader(creg_sizes=[['cr', 5]], global_phase=4.218847493575595e-15, memory_slots=5, n_qubits=5, name='k_means', qreg_sizes=[['qr', 5]], metadata={}), status=DONE, seed_simulator=4000975682, metadata={'noise': 'ideal', 'batched_shots_optimization': False, 'remapped_qubits': True, 'parallel_state_update': 1, 'parallel_shots': 8, 'device': 'CPU', 'active_input_qubits': [1, 2, 4], 'measure_sampling': False, 'num_clbits': 5, 'input_qubit_map': [[4, 2], [2, 1], [1, 0]], 'num_qubits': 3, 'method': 'statevector', 'fusion': {'applied': False, 'max_fused_qubits': 5, 'threshold': 14, 'enabled': True}}, time_taken=0.050357291)], date=2023-09-03T17:38:46.319921, status=COMPLETED, header=None, metadata={'mpi_rank': 0, 'num_mpi_processes': 1, 'num_processes_per_experiments': 1, 'max_gpu_memory_mb': 0, 'time_taken_execute': 0.050398792, 'max_memory_mb': 16384, 'parallel_experiments': 1, 'omp_enabled': True}, time_taken=0.051381826400756836)\n",
      "theta_1:0.02\n",
      "theta_2:0.05\n",
      "Result(backend_name='qasm_simulator', backend_version='0.12.2', qobj_id='', job_id='a07dd512-1c59-4861-b692-a6561dbae49e', success=True, results=[ExperimentResult(shots=1024, success=True, meas_level=2, data=ExperimentResultData(counts={'0x4': 195, '0x0': 829}), header=QobjExperimentHeader(creg_sizes=[['cr', 5]], global_phase=4.440892098500626e-15, memory_slots=5, n_qubits=5, name='k_means', qreg_sizes=[['qr', 5]], metadata={}), status=DONE, seed_simulator=1883343121, metadata={'noise': 'ideal', 'batched_shots_optimization': False, 'remapped_qubits': True, 'parallel_state_update': 1, 'parallel_shots': 8, 'device': 'CPU', 'active_input_qubits': [1, 2, 4], 'measure_sampling': False, 'num_clbits': 5, 'input_qubit_map': [[4, 2], [2, 1], [1, 0]], 'num_qubits': 3, 'method': 'statevector', 'fusion': {'applied': False, 'max_fused_qubits': 5, 'threshold': 14, 'enabled': True}}, time_taken=0.05350725)], date=2023-09-03T17:38:46.394490, status=COMPLETED, header=None, metadata={'mpi_rank': 0, 'num_mpi_processes': 1, 'num_processes_per_experiments': 1, 'max_gpu_memory_mb': 0, 'time_taken_execute': 0.053548542, 'max_memory_mb': 16384, 'parallel_experiments': 1, 'omp_enabled': True}, time_taken=0.05485892295837402)\n",
      "theta_1:0.02\n",
      "theta_2:1.31\n",
      "Result(backend_name='qasm_simulator', backend_version='0.12.2', qobj_id='', job_id='80dada29-701e-45db-97d9-3643c051cae6', success=True, results=[ExperimentResult(shots=1024, success=True, meas_level=2, data=ExperimentResultData(counts={'0x4': 181, '0x0': 843}), header=QobjExperimentHeader(creg_sizes=[['cr', 5]], global_phase=4.6629367034256575e-15, memory_slots=5, n_qubits=5, name='k_means', qreg_sizes=[['qr', 5]], metadata={}), status=DONE, seed_simulator=2410005514, metadata={'noise': 'ideal', 'batched_shots_optimization': False, 'remapped_qubits': True, 'parallel_state_update': 1, 'parallel_shots': 8, 'device': 'CPU', 'active_input_qubits': [1, 2, 4], 'measure_sampling': False, 'num_clbits': 5, 'input_qubit_map': [[4, 2], [2, 1], [1, 0]], 'num_qubits': 3, 'method': 'statevector', 'fusion': {'applied': False, 'max_fused_qubits': 5, 'threshold': 14, 'enabled': True}}, time_taken=0.05770725)], date=2023-09-03T17:38:46.473584, status=COMPLETED, header=None, metadata={'mpi_rank': 0, 'num_mpi_processes': 1, 'num_processes_per_experiments': 1, 'max_gpu_memory_mb': 0, 'time_taken_execute': 0.057750875, 'max_memory_mb': 16384, 'parallel_experiments': 1, 'omp_enabled': True}, time_taken=0.05873513221740723)\n",
      "theta_1:0.02\n",
      "theta_2:1.32\n",
      "Result(backend_name='qasm_simulator', backend_version='0.12.2', qobj_id='', job_id='8a4cfbd2-2e01-4adb-ae14-366e5944d378', success=True, results=[ExperimentResult(shots=1024, success=True, meas_level=2, data=ExperimentResultData(counts={'0x4': 195, '0x0': 829}), header=QobjExperimentHeader(creg_sizes=[['cr', 5]], global_phase=4.884981308350689e-15, memory_slots=5, n_qubits=5, name='k_means', qreg_sizes=[['qr', 5]], metadata={}), status=DONE, seed_simulator=589313291, metadata={'noise': 'ideal', 'batched_shots_optimization': False, 'remapped_qubits': True, 'parallel_state_update': 1, 'parallel_shots': 8, 'device': 'CPU', 'active_input_qubits': [1, 2, 4], 'measure_sampling': False, 'num_clbits': 5, 'input_qubit_map': [[4, 2], [2, 1], [1, 0]], 'num_qubits': 3, 'method': 'statevector', 'fusion': {'applied': False, 'max_fused_qubits': 5, 'threshold': 14, 'enabled': True}}, time_taken=0.060951542)], date=2023-09-03T17:38:46.555068, status=COMPLETED, header=None, metadata={'mpi_rank': 0, 'num_mpi_processes': 1, 'num_processes_per_experiments': 1, 'max_gpu_memory_mb': 0, 'time_taken_execute': 0.06099775, 'max_memory_mb': 16384, 'parallel_experiments': 1, 'omp_enabled': True}, time_taken=0.06199312210083008)\n",
      "theta_1:0.02\n",
      "theta_2:1.33\n",
      "Result(backend_name='qasm_simulator', backend_version='0.12.2', qobj_id='', job_id='cdfcd504-e338-41ee-aefe-5dc440818c2d', success=True, results=[ExperimentResult(shots=1024, success=True, meas_level=2, data=ExperimentResultData(counts={'0x4': 190, '0x0': 834}), header=QobjExperimentHeader(creg_sizes=[['cr', 5]], global_phase=5.10702591327572e-15, memory_slots=5, n_qubits=5, name='k_means', qreg_sizes=[['qr', 5]], metadata={}), status=DONE, seed_simulator=596580027, metadata={'noise': 'ideal', 'batched_shots_optimization': False, 'remapped_qubits': True, 'parallel_state_update': 1, 'parallel_shots': 8, 'device': 'CPU', 'active_input_qubits': [1, 2, 4], 'measure_sampling': False, 'num_clbits': 5, 'input_qubit_map': [[4, 2], [2, 1], [1, 0]], 'num_qubits': 3, 'method': 'statevector', 'fusion': {'applied': False, 'max_fused_qubits': 5, 'threshold': 14, 'enabled': True}}, time_taken=0.06536925)], date=2023-09-03T17:38:46.640695, status=COMPLETED, header=None, metadata={'mpi_rank': 0, 'num_mpi_processes': 1, 'num_processes_per_experiments': 1, 'max_gpu_memory_mb': 0, 'time_taken_execute': 0.065426583, 'max_memory_mb': 16384, 'parallel_experiments': 1, 'omp_enabled': True}, time_taken=0.06666803359985352)\n",
      "theta_1:0.02\n",
      "theta_2:1.34\n",
      "Result(backend_name='qasm_simulator', backend_version='0.12.2', qobj_id='', job_id='2a1c10aa-ebda-439a-b9ec-791fb5f882de', success=True, results=[ExperimentResult(shots=1024, success=True, meas_level=2, data=ExperimentResultData(counts={'0x0': 835, '0x4': 189}), header=QobjExperimentHeader(creg_sizes=[['cr', 5]], global_phase=5.329070518200751e-15, memory_slots=5, n_qubits=5, name='k_means', qreg_sizes=[['qr', 5]], metadata={}), status=DONE, seed_simulator=3298536357, metadata={'noise': 'ideal', 'batched_shots_optimization': False, 'remapped_qubits': True, 'parallel_state_update': 1, 'parallel_shots': 8, 'device': 'CPU', 'active_input_qubits': [1, 2, 4], 'measure_sampling': False, 'num_clbits': 5, 'input_qubit_map': [[4, 2], [2, 1], [1, 0]], 'num_qubits': 3, 'method': 'statevector', 'fusion': {'applied': False, 'max_fused_qubits': 5, 'threshold': 14, 'enabled': True}}, time_taken=0.06952375)], date=2023-09-03T17:38:46.734049, status=COMPLETED, header=None, metadata={'mpi_rank': 0, 'num_mpi_processes': 1, 'num_processes_per_experiments': 1, 'max_gpu_memory_mb': 0, 'time_taken_execute': 0.069566209, 'max_memory_mb': 16384, 'parallel_experiments': 1, 'omp_enabled': True}, time_taken=0.07067489624023438)\n",
      "theta_1:0.02\n",
      "theta_2:1.35\n",
      "Result(backend_name='qasm_simulator', backend_version='0.12.2', qobj_id='', job_id='7849ba99-ac5b-402f-ba34-13c071e05938', success=True, results=[ExperimentResult(shots=1024, success=True, meas_level=2, data=ExperimentResultData(counts={'0x0': 1024}), header=QobjExperimentHeader(creg_sizes=[['cr', 5]], global_phase=5.773159728050814e-15, memory_slots=5, n_qubits=5, name='k_means', qreg_sizes=[['qr', 5]], metadata={}), status=DONE, seed_simulator=263765253, metadata={'noise': 'ideal', 'batched_shots_optimization': False, 'remapped_qubits': True, 'parallel_state_update': 1, 'parallel_shots': 8, 'device': 'CPU', 'active_input_qubits': [1, 2, 4], 'measure_sampling': False, 'num_clbits': 5, 'input_qubit_map': [[4, 2], [2, 1], [1, 0]], 'num_qubits': 3, 'method': 'statevector', 'fusion': {'applied': False, 'max_fused_qubits': 5, 'threshold': 14, 'enabled': True}}, time_taken=0.073522416)], date=2023-09-03T17:38:46.830369, status=COMPLETED, header=None, metadata={'mpi_rank': 0, 'num_mpi_processes': 1, 'num_processes_per_experiments': 1, 'max_gpu_memory_mb': 0, 'time_taken_execute': 0.073590292, 'max_memory_mb': 16384, 'parallel_experiments': 1, 'omp_enabled': True}, time_taken=0.0748898983001709)\n",
      "theta_1:0.03\n",
      "theta_2:0.04\n",
      "Result(backend_name='qasm_simulator', backend_version='0.12.2', qobj_id='', job_id='7796ad65-4fcd-47ba-9b38-b7517fbd30a4', success=True, results=[ExperimentResult(shots=1024, success=True, meas_level=2, data=ExperimentResultData(counts={'0x0': 1024}), header=QobjExperimentHeader(creg_sizes=[['cr', 5]], global_phase=6.217248937900877e-15, memory_slots=5, n_qubits=5, name='k_means', qreg_sizes=[['qr', 5]], metadata={}), status=DONE, seed_simulator=2423225837, metadata={'noise': 'ideal', 'batched_shots_optimization': False, 'remapped_qubits': True, 'parallel_state_update': 1, 'parallel_shots': 8, 'device': 'CPU', 'active_input_qubits': [1, 2, 4], 'measure_sampling': False, 'num_clbits': 5, 'input_qubit_map': [[4, 2], [2, 1], [1, 0]], 'num_qubits': 3, 'method': 'statevector', 'fusion': {'applied': False, 'max_fused_qubits': 5, 'threshold': 14, 'enabled': True}}, time_taken=0.077196709)], date=2023-09-03T17:38:46.929559, status=COMPLETED, header=None, metadata={'mpi_rank': 0, 'num_mpi_processes': 1, 'num_processes_per_experiments': 1, 'max_gpu_memory_mb': 0, 'time_taken_execute': 0.077245917, 'max_memory_mb': 16384, 'parallel_experiments': 1, 'omp_enabled': True}, time_taken=0.07860183715820312)\n",
      "theta_1:0.03\n",
      "theta_2:0.05\n",
      "Result(backend_name='qasm_simulator', backend_version='0.12.2', qobj_id='', job_id='ea38256c-c4b5-4836-bf68-5b2176a03c1f', success=True, results=[ExperimentResult(shots=1024, success=True, meas_level=2, data=ExperimentResultData(counts={'0x0': 845, '0x4': 179}), header=QobjExperimentHeader(creg_sizes=[['cr', 5]], global_phase=6.439293542825908e-15, memory_slots=5, n_qubits=5, name='k_means', qreg_sizes=[['qr', 5]], metadata={}), status=DONE, seed_simulator=1279899330, metadata={'noise': 'ideal', 'batched_shots_optimization': False, 'remapped_qubits': True, 'parallel_state_update': 1, 'parallel_shots': 8, 'device': 'CPU', 'active_input_qubits': [1, 2, 4], 'measure_sampling': False, 'num_clbits': 5, 'input_qubit_map': [[4, 2], [2, 1], [1, 0]], 'num_qubits': 3, 'method': 'statevector', 'fusion': {'applied': False, 'max_fused_qubits': 5, 'threshold': 14, 'enabled': True}}, time_taken=0.082003209)], date=2023-09-03T17:38:47.034054, status=COMPLETED, header=None, metadata={'mpi_rank': 0, 'num_mpi_processes': 1, 'num_processes_per_experiments': 1, 'max_gpu_memory_mb': 0, 'time_taken_execute': 0.082051, 'max_memory_mb': 16384, 'parallel_experiments': 1, 'omp_enabled': True}, time_taken=0.08327722549438477)\n",
      "theta_1:0.03\n",
      "theta_2:1.31\n",
      "Result(backend_name='qasm_simulator', backend_version='0.12.2', qobj_id='', job_id='20663992-4395-4937-81fd-04836aa1b143', success=True, results=[ExperimentResult(shots=1024, success=True, meas_level=2, data=ExperimentResultData(counts={'0x0': 850, '0x4': 174}), header=QobjExperimentHeader(creg_sizes=[['cr', 5]], global_phase=6.661338147750939e-15, memory_slots=5, n_qubits=5, name='k_means', qreg_sizes=[['qr', 5]], metadata={}), status=DONE, seed_simulator=517069869, metadata={'noise': 'ideal', 'batched_shots_optimization': False, 'remapped_qubits': True, 'parallel_state_update': 1, 'parallel_shots': 8, 'device': 'CPU', 'active_input_qubits': [1, 2, 4], 'measure_sampling': False, 'num_clbits': 5, 'input_qubit_map': [[4, 2], [2, 1], [1, 0]], 'num_qubits': 3, 'method': 'statevector', 'fusion': {'applied': False, 'max_fused_qubits': 5, 'threshold': 14, 'enabled': True}}, time_taken=0.085366041)], date=2023-09-03T17:38:47.187672, status=COMPLETED, header=None, metadata={'mpi_rank': 0, 'num_mpi_processes': 1, 'num_processes_per_experiments': 1, 'max_gpu_memory_mb': 0, 'time_taken_execute': 0.085442167, 'max_memory_mb': 16384, 'parallel_experiments': 1, 'omp_enabled': True}, time_taken=0.08690881729125977)\n",
      "theta_1:0.03\n",
      "theta_2:1.32\n",
      "Result(backend_name='qasm_simulator', backend_version='0.12.2', qobj_id='', job_id='2aecc2ea-a8e5-438a-b9fa-e056ccc042f0', success=True, results=[ExperimentResult(shots=1024, success=True, meas_level=2, data=ExperimentResultData(counts={'0x4': 181, '0x0': 843}), header=QobjExperimentHeader(creg_sizes=[['cr', 5]], global_phase=6.8833827526759706e-15, memory_slots=5, n_qubits=5, name='k_means', qreg_sizes=[['qr', 5]], metadata={}), status=DONE, seed_simulator=698459392, metadata={'noise': 'ideal', 'batched_shots_optimization': False, 'remapped_qubits': True, 'parallel_state_update': 1, 'parallel_shots': 8, 'device': 'CPU', 'active_input_qubits': [1, 2, 4], 'measure_sampling': False, 'num_clbits': 5, 'input_qubit_map': [[4, 2], [2, 1], [1, 0]], 'num_qubits': 3, 'method': 'statevector', 'fusion': {'applied': False, 'max_fused_qubits': 5, 'threshold': 14, 'enabled': True}}, time_taken=0.08880225)], date=2023-09-03T17:38:47.301397, status=COMPLETED, header=None, metadata={'mpi_rank': 0, 'num_mpi_processes': 1, 'num_processes_per_experiments': 1, 'max_gpu_memory_mb': 0, 'time_taken_execute': 0.088857292, 'max_memory_mb': 16384, 'parallel_experiments': 1, 'omp_enabled': True}, time_taken=0.09017109870910645)\n",
      "theta_1:0.03\n",
      "theta_2:1.33\n",
      "Result(backend_name='qasm_simulator', backend_version='0.12.2', qobj_id='', job_id='70844153-dce7-48b6-a53c-202d63d17ae3', success=True, results=[ExperimentResult(shots=1024, success=True, meas_level=2, data=ExperimentResultData(counts={'0x4': 197, '0x0': 827}), header=QobjExperimentHeader(creg_sizes=[['cr', 5]], global_phase=7.105427357601002e-15, memory_slots=5, n_qubits=5, name='k_means', qreg_sizes=[['qr', 5]], metadata={}), status=DONE, seed_simulator=2276102081, metadata={'noise': 'ideal', 'batched_shots_optimization': False, 'remapped_qubits': True, 'parallel_state_update': 1, 'parallel_shots': 8, 'device': 'CPU', 'active_input_qubits': [1, 2, 4], 'measure_sampling': False, 'num_clbits': 5, 'input_qubit_map': [[4, 2], [2, 1], [1, 0]], 'num_qubits': 3, 'method': 'statevector', 'fusion': {'applied': False, 'max_fused_qubits': 5, 'threshold': 14, 'enabled': True}}, time_taken=0.092423)], date=2023-09-03T17:38:47.418607, status=COMPLETED, header=None, metadata={'mpi_rank': 0, 'num_mpi_processes': 1, 'num_processes_per_experiments': 1, 'max_gpu_memory_mb': 0, 'time_taken_execute': 0.09247425, 'max_memory_mb': 16384, 'parallel_experiments': 1, 'omp_enabled': True}, time_taken=0.09398293495178223)\n",
      "theta_1:0.03\n",
      "theta_2:1.34\n",
      "Result(backend_name='qasm_simulator', backend_version='0.12.2', qobj_id='', job_id='fa8e82fc-94a7-4867-b165-be133f4abc00', success=True, results=[ExperimentResult(shots=1024, success=True, meas_level=2, data=ExperimentResultData(counts={'0x4': 207, '0x0': 817}), header=QobjExperimentHeader(creg_sizes=[['cr', 5]], global_phase=7.327471962526033e-15, memory_slots=5, n_qubits=5, name='k_means', qreg_sizes=[['qr', 5]], metadata={}), status=DONE, seed_simulator=281874491, metadata={'noise': 'ideal', 'batched_shots_optimization': False, 'remapped_qubits': True, 'parallel_state_update': 1, 'parallel_shots': 8, 'device': 'CPU', 'active_input_qubits': [1, 2, 4], 'measure_sampling': False, 'num_clbits': 5, 'input_qubit_map': [[4, 2], [2, 1], [1, 0]], 'num_qubits': 3, 'method': 'statevector', 'fusion': {'applied': False, 'max_fused_qubits': 5, 'threshold': 14, 'enabled': True}}, time_taken=0.096677958)], date=2023-09-03T17:38:47.540250, status=COMPLETED, header=None, metadata={'mpi_rank': 0, 'num_mpi_processes': 1, 'num_processes_per_experiments': 1, 'max_gpu_memory_mb': 0, 'time_taken_execute': 0.096725542, 'max_memory_mb': 16384, 'parallel_experiments': 1, 'omp_enabled': True}, time_taken=0.09807896614074707)\n",
      "theta_1:0.03\n",
      "theta_2:1.35\n",
      "Result(backend_name='qasm_simulator', backend_version='0.12.2', qobj_id='', job_id='541743ae-b126-4e3e-ab34-0bef3ec556b7', success=True, results=[ExperimentResult(shots=1024, success=True, meas_level=2, data=ExperimentResultData(counts={'0x0': 1024}), header=QobjExperimentHeader(creg_sizes=[['cr', 5]], global_phase=7.771561172376096e-15, memory_slots=5, n_qubits=5, name='k_means', qreg_sizes=[['qr', 5]], metadata={}), status=DONE, seed_simulator=2133252650, metadata={'noise': 'ideal', 'batched_shots_optimization': False, 'remapped_qubits': True, 'parallel_state_update': 1, 'parallel_shots': 8, 'device': 'CPU', 'active_input_qubits': [1, 2, 4], 'measure_sampling': False, 'num_clbits': 5, 'input_qubit_map': [[4, 2], [2, 1], [1, 0]], 'num_qubits': 3, 'method': 'statevector', 'fusion': {'applied': False, 'max_fused_qubits': 5, 'threshold': 14, 'enabled': True}}, time_taken=0.100656708)], date=2023-09-03T17:38:47.665367, status=COMPLETED, header=None, metadata={'mpi_rank': 0, 'num_mpi_processes': 1, 'num_processes_per_experiments': 1, 'max_gpu_memory_mb': 0, 'time_taken_execute': 0.1007095, 'max_memory_mb': 16384, 'parallel_experiments': 1, 'omp_enabled': True}, time_taken=0.10206389427185059)\n",
      "theta_1:0.04\n",
      "theta_2:0.05\n",
      "Result(backend_name='qasm_simulator', backend_version='0.12.2', qobj_id='', job_id='83a8d7ea-09f1-4c6f-abf6-f8ae57d3c3f4', success=True, results=[ExperimentResult(shots=1024, success=True, meas_level=2, data=ExperimentResultData(counts={'0x4': 188, '0x0': 836}), header=QobjExperimentHeader(creg_sizes=[['cr', 5]], global_phase=7.993605777301127e-15, memory_slots=5, n_qubits=5, name='k_means', qreg_sizes=[['qr', 5]], metadata={}), status=DONE, seed_simulator=2292754968, metadata={'noise': 'ideal', 'batched_shots_optimization': False, 'remapped_qubits': True, 'parallel_state_update': 1, 'parallel_shots': 8, 'device': 'CPU', 'active_input_qubits': [1, 2, 4], 'measure_sampling': False, 'num_clbits': 5, 'input_qubit_map': [[4, 2], [2, 1], [1, 0]], 'num_qubits': 3, 'method': 'statevector', 'fusion': {'applied': False, 'max_fused_qubits': 5, 'threshold': 14, 'enabled': True}}, time_taken=0.104626209)], date=2023-09-03T17:38:47.794819, status=COMPLETED, header=None, metadata={'mpi_rank': 0, 'num_mpi_processes': 1, 'num_processes_per_experiments': 1, 'max_gpu_memory_mb': 0, 'time_taken_execute': 0.104682333, 'max_memory_mb': 16384, 'parallel_experiments': 1, 'omp_enabled': True}, time_taken=0.10630607604980469)\n",
      "theta_1:0.04\n",
      "theta_2:1.31\n",
      "Result(backend_name='qasm_simulator', backend_version='0.12.2', qobj_id='', job_id='ec6b2174-bd93-4e0a-a8bf-302d94ee6972', success=True, results=[ExperimentResult(shots=1024, success=True, meas_level=2, data=ExperimentResultData(counts={'0x4': 179, '0x0': 845}), header=QobjExperimentHeader(creg_sizes=[['cr', 5]], global_phase=8.215650382226158e-15, memory_slots=5, n_qubits=5, name='k_means', qreg_sizes=[['qr', 5]], metadata={}), status=DONE, seed_simulator=3664347346, metadata={'noise': 'ideal', 'batched_shots_optimization': False, 'remapped_qubits': True, 'parallel_state_update': 1, 'parallel_shots': 8, 'device': 'CPU', 'active_input_qubits': [1, 2, 4], 'measure_sampling': False, 'num_clbits': 5, 'input_qubit_map': [[4, 2], [2, 1], [1, 0]], 'num_qubits': 3, 'method': 'statevector', 'fusion': {'applied': False, 'max_fused_qubits': 5, 'threshold': 14, 'enabled': True}}, time_taken=0.109571208)], date=2023-09-03T17:38:47.931021, status=COMPLETED, header=None, metadata={'mpi_rank': 0, 'num_mpi_processes': 1, 'num_processes_per_experiments': 1, 'max_gpu_memory_mb': 0, 'time_taken_execute': 0.109631625, 'max_memory_mb': 16384, 'parallel_experiments': 1, 'omp_enabled': True}, time_taken=0.1111900806427002)\n",
      "theta_1:0.04\n",
      "theta_2:1.32\n",
      "Result(backend_name='qasm_simulator', backend_version='0.12.2', qobj_id='', job_id='e7a7cc28-1dc3-42a0-b0d1-84e806635d00', success=True, results=[ExperimentResult(shots=1024, success=True, meas_level=2, data=ExperimentResultData(counts={'0x4': 184, '0x0': 840}), header=QobjExperimentHeader(creg_sizes=[['cr', 5]], global_phase=8.43769498715119e-15, memory_slots=5, n_qubits=5, name='k_means', qreg_sizes=[['qr', 5]], metadata={}), status=DONE, seed_simulator=1259767810, metadata={'noise': 'ideal', 'batched_shots_optimization': False, 'remapped_qubits': True, 'parallel_state_update': 1, 'parallel_shots': 8, 'device': 'CPU', 'active_input_qubits': [1, 2, 4], 'measure_sampling': False, 'num_clbits': 5, 'input_qubit_map': [[4, 2], [2, 1], [1, 0]], 'num_qubits': 3, 'method': 'statevector', 'fusion': {'applied': False, 'max_fused_qubits': 5, 'threshold': 14, 'enabled': True}}, time_taken=0.113587292)], date=2023-09-03T17:38:48.072614, status=COMPLETED, header=None, metadata={'mpi_rank': 0, 'num_mpi_processes': 1, 'num_processes_per_experiments': 1, 'max_gpu_memory_mb': 0, 'time_taken_execute': 0.113653541, 'max_memory_mb': 16384, 'parallel_experiments': 1, 'omp_enabled': True}, time_taken=0.11526608467102051)\n",
      "theta_1:0.04\n",
      "theta_2:1.33\n",
      "Result(backend_name='qasm_simulator', backend_version='0.12.2', qobj_id='', job_id='0e68a153-d2c6-4826-ab86-7ebf7eaceda7', success=True, results=[ExperimentResult(shots=1024, success=True, meas_level=2, data=ExperimentResultData(counts={'0x4': 173, '0x0': 851}), header=QobjExperimentHeader(creg_sizes=[['cr', 5]], global_phase=8.659739592076221e-15, memory_slots=5, n_qubits=5, name='k_means', qreg_sizes=[['qr', 5]], metadata={}), status=DONE, seed_simulator=3893768678, metadata={'noise': 'ideal', 'batched_shots_optimization': False, 'remapped_qubits': True, 'parallel_state_update': 1, 'parallel_shots': 8, 'device': 'CPU', 'active_input_qubits': [1, 2, 4], 'measure_sampling': False, 'num_clbits': 5, 'input_qubit_map': [[4, 2], [2, 1], [1, 0]], 'num_qubits': 3, 'method': 'statevector', 'fusion': {'applied': False, 'max_fused_qubits': 5, 'threshold': 14, 'enabled': True}}, time_taken=0.116979875)], date=2023-09-03T17:38:48.217154, status=COMPLETED, header=None, metadata={'mpi_rank': 0, 'num_mpi_processes': 1, 'num_processes_per_experiments': 1, 'max_gpu_memory_mb': 0, 'time_taken_execute': 0.117032792, 'max_memory_mb': 16384, 'parallel_experiments': 1, 'omp_enabled': True}, time_taken=0.11860775947570801)\n",
      "theta_1:0.04\n",
      "theta_2:1.34\n",
      "Result(backend_name='qasm_simulator', backend_version='0.12.2', qobj_id='', job_id='be9c4414-f8b6-45e8-adc1-eea76b0e6ab7', success=True, results=[ExperimentResult(shots=1024, success=True, meas_level=2, data=ExperimentResultData(counts={'0x4': 203, '0x0': 821}), header=QobjExperimentHeader(creg_sizes=[['cr', 5]], global_phase=8.881784197001252e-15, memory_slots=5, n_qubits=5, name='k_means', qreg_sizes=[['qr', 5]], metadata={}), status=DONE, seed_simulator=2863012797, metadata={'noise': 'ideal', 'batched_shots_optimization': False, 'remapped_qubits': True, 'parallel_state_update': 1, 'parallel_shots': 8, 'device': 'CPU', 'active_input_qubits': [1, 2, 4], 'measure_sampling': False, 'num_clbits': 5, 'input_qubit_map': [[4, 2], [2, 1], [1, 0]], 'num_qubits': 3, 'method': 'statevector', 'fusion': {'applied': False, 'max_fused_qubits': 5, 'threshold': 14, 'enabled': True}}, time_taken=0.1209305)], date=2023-09-03T17:38:48.364925, status=COMPLETED, header=None, metadata={'mpi_rank': 0, 'num_mpi_processes': 1, 'num_processes_per_experiments': 1, 'max_gpu_memory_mb': 0, 'time_taken_execute': 0.120990209, 'max_memory_mb': 16384, 'parallel_experiments': 1, 'omp_enabled': True}, time_taken=0.12273788452148438)\n",
      "theta_1:0.04\n",
      "theta_2:1.35\n",
      "Result(backend_name='qasm_simulator', backend_version='0.12.2', qobj_id='', job_id='58fac316-23e9-47f3-8e95-30664fd5a7ca', success=True, results=[ExperimentResult(shots=1024, success=True, meas_level=2, data=ExperimentResultData(counts={'0x4': 171, '0x0': 853}), header=QobjExperimentHeader(creg_sizes=[['cr', 5]], global_phase=9.103828801926284e-15, memory_slots=5, n_qubits=5, name='k_means', qreg_sizes=[['qr', 5]], metadata={}), status=DONE, seed_simulator=434307524, metadata={'noise': 'ideal', 'batched_shots_optimization': False, 'remapped_qubits': True, 'parallel_state_update': 1, 'parallel_shots': 8, 'device': 'CPU', 'active_input_qubits': [1, 2, 4], 'measure_sampling': False, 'num_clbits': 5, 'input_qubit_map': [[4, 2], [2, 1], [1, 0]], 'num_qubits': 3, 'method': 'statevector', 'fusion': {'applied': False, 'max_fused_qubits': 5, 'threshold': 14, 'enabled': True}}, time_taken=0.124793375)], date=2023-09-03T17:38:48.518286, status=COMPLETED, header=None, metadata={'mpi_rank': 0, 'num_mpi_processes': 1, 'num_processes_per_experiments': 1, 'max_gpu_memory_mb': 0, 'time_taken_execute': 0.124875083, 'max_memory_mb': 16384, 'parallel_experiments': 1, 'omp_enabled': True}, time_taken=0.12656307220458984)\n",
      "theta_1:0.05\n",
      "theta_2:1.31\n",
      "Result(backend_name='qasm_simulator', backend_version='0.12.2', qobj_id='', job_id='1823602d-4318-4e80-b744-4cd03c478070', success=True, results=[ExperimentResult(shots=1024, success=True, meas_level=2, data=ExperimentResultData(counts={'0x4': 164, '0x0': 860}), header=QobjExperimentHeader(creg_sizes=[['cr', 5]], global_phase=9.325873406851315e-15, memory_slots=5, n_qubits=5, name='k_means', qreg_sizes=[['qr', 5]], metadata={}), status=DONE, seed_simulator=3436117869, metadata={'noise': 'ideal', 'batched_shots_optimization': False, 'remapped_qubits': True, 'parallel_state_update': 1, 'parallel_shots': 8, 'device': 'CPU', 'active_input_qubits': [1, 2, 4], 'measure_sampling': False, 'num_clbits': 5, 'input_qubit_map': [[4, 2], [2, 1], [1, 0]], 'num_qubits': 3, 'method': 'statevector', 'fusion': {'applied': False, 'max_fused_qubits': 5, 'threshold': 14, 'enabled': True}}, time_taken=0.127807833)], date=2023-09-03T17:38:48.673306, status=COMPLETED, header=None, metadata={'mpi_rank': 0, 'num_mpi_processes': 1, 'num_processes_per_experiments': 1, 'max_gpu_memory_mb': 0, 'time_taken_execute': 0.127893375, 'max_memory_mb': 16384, 'parallel_experiments': 1, 'omp_enabled': True}, time_taken=0.12973904609680176)\n",
      "theta_1:0.05\n",
      "theta_2:1.32\n",
      "Result(backend_name='qasm_simulator', backend_version='0.12.2', qobj_id='', job_id='d18175c5-39e6-493f-b38c-2928b0f202e9', success=True, results=[ExperimentResult(shots=1024, success=True, meas_level=2, data=ExperimentResultData(counts={'0x4': 189, '0x0': 835}), header=QobjExperimentHeader(creg_sizes=[['cr', 5]], global_phase=9.547918011776346e-15, memory_slots=5, n_qubits=5, name='k_means', qreg_sizes=[['qr', 5]], metadata={}), status=DONE, seed_simulator=4021805427, metadata={'noise': 'ideal', 'batched_shots_optimization': False, 'remapped_qubits': True, 'parallel_state_update': 1, 'parallel_shots': 8, 'device': 'CPU', 'active_input_qubits': [1, 2, 4], 'measure_sampling': False, 'num_clbits': 5, 'input_qubit_map': [[4, 2], [2, 1], [1, 0]], 'num_qubits': 3, 'method': 'statevector', 'fusion': {'applied': False, 'max_fused_qubits': 5, 'threshold': 14, 'enabled': True}}, time_taken=0.132085333)], date=2023-09-03T17:38:48.834404, status=COMPLETED, header=None, metadata={'mpi_rank': 0, 'num_mpi_processes': 1, 'num_processes_per_experiments': 1, 'max_gpu_memory_mb': 0, 'time_taken_execute': 0.132142959, 'max_memory_mb': 16384, 'parallel_experiments': 1, 'omp_enabled': True}, time_taken=0.13385891914367676)\n",
      "theta_1:0.05\n",
      "theta_2:1.33\n",
      "Result(backend_name='qasm_simulator', backend_version='0.12.2', qobj_id='', job_id='daa19a92-f9a3-481d-9ea0-f9431e2cbe08', success=True, results=[ExperimentResult(shots=1024, success=True, meas_level=2, data=ExperimentResultData(counts={'0x4': 189, '0x0': 835}), header=QobjExperimentHeader(creg_sizes=[['cr', 5]], global_phase=9.769962616701378e-15, memory_slots=5, n_qubits=5, name='k_means', qreg_sizes=[['qr', 5]], metadata={}), status=DONE, seed_simulator=2376240652, metadata={'noise': 'ideal', 'batched_shots_optimization': False, 'remapped_qubits': True, 'parallel_state_update': 1, 'parallel_shots': 8, 'device': 'CPU', 'active_input_qubits': [1, 2, 4], 'measure_sampling': False, 'num_clbits': 5, 'input_qubit_map': [[4, 2], [2, 1], [1, 0]], 'num_qubits': 3, 'method': 'statevector', 'fusion': {'applied': False, 'max_fused_qubits': 5, 'threshold': 14, 'enabled': True}}, time_taken=0.136005)], date=2023-09-03T17:38:49.000305, status=COMPLETED, header=None, metadata={'mpi_rank': 0, 'num_mpi_processes': 1, 'num_processes_per_experiments': 1, 'max_gpu_memory_mb': 0, 'time_taken_execute': 0.136071459, 'max_memory_mb': 16384, 'parallel_experiments': 1, 'omp_enabled': True}, time_taken=0.13782620429992676)\n",
      "theta_1:0.05\n",
      "theta_2:1.34\n",
      "Result(backend_name='qasm_simulator', backend_version='0.12.2', qobj_id='', job_id='e389c889-dbd6-4eec-ac8a-dccdf5488edf', success=True, results=[ExperimentResult(shots=1024, success=True, meas_level=2, data=ExperimentResultData(counts={'0x4': 200, '0x0': 824}), header=QobjExperimentHeader(creg_sizes=[['cr', 5]], global_phase=9.992007221626409e-15, memory_slots=5, n_qubits=5, name='k_means', qreg_sizes=[['qr', 5]], metadata={}), status=DONE, seed_simulator=1244375568, metadata={'noise': 'ideal', 'batched_shots_optimization': False, 'remapped_qubits': True, 'parallel_state_update': 1, 'parallel_shots': 8, 'device': 'CPU', 'active_input_qubits': [1, 2, 4], 'measure_sampling': False, 'num_clbits': 5, 'input_qubit_map': [[4, 2], [2, 1], [1, 0]], 'num_qubits': 3, 'method': 'statevector', 'fusion': {'applied': False, 'max_fused_qubits': 5, 'threshold': 14, 'enabled': True}}, time_taken=0.13959975)], date=2023-09-03T17:38:49.167982, status=COMPLETED, header=None, metadata={'mpi_rank': 0, 'num_mpi_processes': 1, 'num_processes_per_experiments': 1, 'max_gpu_memory_mb': 0, 'time_taken_execute': 0.139656917, 'max_memory_mb': 16384, 'parallel_experiments': 1, 'omp_enabled': True}, time_taken=0.14159393310546875)\n",
      "theta_1:0.05\n",
      "theta_2:1.35\n",
      "Result(backend_name='qasm_simulator', backend_version='0.12.2', qobj_id='', job_id='b15feb04-e04b-4600-94fa-c68383e4565c', success=True, results=[ExperimentResult(shots=1024, success=True, meas_level=2, data=ExperimentResultData(counts={'0x0': 1024}), header=QobjExperimentHeader(creg_sizes=[['cr', 5]], global_phase=9.992007221626409e-15, memory_slots=5, n_qubits=5, name='k_means', qreg_sizes=[['qr', 5]], metadata={}), status=DONE, seed_simulator=316223591, metadata={'noise': 'ideal', 'batched_shots_optimization': False, 'remapped_qubits': True, 'parallel_state_update': 1, 'parallel_shots': 8, 'device': 'CPU', 'active_input_qubits': [1, 2, 4], 'measure_sampling': False, 'num_clbits': 5, 'input_qubit_map': [[4, 2], [2, 1], [1, 0]], 'num_qubits': 3, 'method': 'statevector', 'fusion': {'applied': False, 'max_fused_qubits': 5, 'threshold': 14, 'enabled': True}}, time_taken=0.1440425)], date=2023-09-03T17:38:49.341672, status=COMPLETED, header=None, metadata={'mpi_rank': 0, 'num_mpi_processes': 1, 'num_processes_per_experiments': 1, 'max_gpu_memory_mb': 0, 'time_taken_execute': 0.1440965, 'max_memory_mb': 16384, 'parallel_experiments': 1, 'omp_enabled': True}, time_taken=0.1459519863128662)\n",
      "theta_1:1.31\n",
      "theta_2:1.32\n",
      "Result(backend_name='qasm_simulator', backend_version='0.12.2', qobj_id='', job_id='0a4603f5-3a5c-4b82-896e-ac7ab942001e', success=True, results=[ExperimentResult(shots=1024, success=True, meas_level=2, data=ExperimentResultData(counts={'0x0': 1024}), header=QobjExperimentHeader(creg_sizes=[['cr', 5]], global_phase=9.992007221626409e-15, memory_slots=5, n_qubits=5, name='k_means', qreg_sizes=[['qr', 5]], metadata={}), status=DONE, seed_simulator=1476824595, metadata={'noise': 'ideal', 'batched_shots_optimization': False, 'remapped_qubits': True, 'parallel_state_update': 1, 'parallel_shots': 8, 'device': 'CPU', 'active_input_qubits': [1, 2, 4], 'measure_sampling': False, 'num_clbits': 5, 'input_qubit_map': [[4, 2], [2, 1], [1, 0]], 'num_qubits': 3, 'method': 'statevector', 'fusion': {'applied': False, 'max_fused_qubits': 5, 'threshold': 14, 'enabled': True}}, time_taken=0.147842084)], date=2023-09-03T17:38:49.520533, status=COMPLETED, header=None, metadata={'mpi_rank': 0, 'num_mpi_processes': 1, 'num_processes_per_experiments': 1, 'max_gpu_memory_mb': 0, 'time_taken_execute': 0.147910125, 'max_memory_mb': 16384, 'parallel_experiments': 1, 'omp_enabled': True}, time_taken=0.14979791641235352)\n",
      "theta_1:1.31\n",
      "theta_2:1.33\n",
      "Result(backend_name='qasm_simulator', backend_version='0.12.2', qobj_id='', job_id='0939d287-b3d9-499a-87de-097afeb52940', success=True, results=[ExperimentResult(shots=1024, success=True, meas_level=2, data=ExperimentResultData(counts={'0x0': 1024}), header=QobjExperimentHeader(creg_sizes=[['cr', 5]], global_phase=9.992007221626409e-15, memory_slots=5, n_qubits=5, name='k_means', qreg_sizes=[['qr', 5]], metadata={}), status=DONE, seed_simulator=2691652432, metadata={'noise': 'ideal', 'batched_shots_optimization': False, 'remapped_qubits': True, 'parallel_state_update': 1, 'parallel_shots': 8, 'device': 'CPU', 'active_input_qubits': [1, 2, 4], 'measure_sampling': False, 'num_clbits': 5, 'input_qubit_map': [[4, 2], [2, 1], [1, 0]], 'num_qubits': 3, 'method': 'statevector', 'fusion': {'applied': False, 'max_fused_qubits': 5, 'threshold': 14, 'enabled': True}}, time_taken=0.151483)], date=2023-09-03T17:38:49.701351, status=COMPLETED, header=None, metadata={'mpi_rank': 0, 'num_mpi_processes': 1, 'num_processes_per_experiments': 1, 'max_gpu_memory_mb': 0, 'time_taken_execute': 0.151605166, 'max_memory_mb': 16384, 'parallel_experiments': 1, 'omp_enabled': True}, time_taken=0.15379905700683594)\n",
      "theta_1:1.31\n",
      "theta_2:1.34\n",
      "Result(backend_name='qasm_simulator', backend_version='0.12.2', qobj_id='', job_id='e5908044-740c-47c8-ac7c-20c10bf21b2a', success=True, results=[ExperimentResult(shots=1024, success=True, meas_level=2, data=ExperimentResultData(counts={'0x0': 1024}), header=QobjExperimentHeader(creg_sizes=[['cr', 5]], global_phase=9.992007221626409e-15, memory_slots=5, n_qubits=5, name='k_means', qreg_sizes=[['qr', 5]], metadata={}), status=DONE, seed_simulator=534022676, metadata={'noise': 'ideal', 'batched_shots_optimization': False, 'remapped_qubits': True, 'parallel_state_update': 1, 'parallel_shots': 8, 'device': 'CPU', 'active_input_qubits': [1, 2, 4], 'measure_sampling': False, 'num_clbits': 5, 'input_qubit_map': [[4, 2], [2, 1], [1, 0]], 'num_qubits': 3, 'method': 'statevector', 'fusion': {'applied': False, 'max_fused_qubits': 5, 'threshold': 14, 'enabled': True}}, time_taken=0.156066458)], date=2023-09-03T17:38:49.937675, status=COMPLETED, header=None, metadata={'mpi_rank': 0, 'num_mpi_processes': 1, 'num_processes_per_experiments': 1, 'max_gpu_memory_mb': 0, 'time_taken_execute': 0.156127542, 'max_memory_mb': 16384, 'parallel_experiments': 1, 'omp_enabled': True}, time_taken=0.15808892250061035)\n",
      "theta_1:1.31\n",
      "theta_2:1.35\n",
      "Result(backend_name='qasm_simulator', backend_version='0.12.2', qobj_id='', job_id='74057663-86eb-4479-9777-d21cce4a2f9d', success=True, results=[ExperimentResult(shots=1024, success=True, meas_level=2, data=ExperimentResultData(counts={'0x0': 1024}), header=QobjExperimentHeader(creg_sizes=[['cr', 5]], global_phase=9.992007221626409e-15, memory_slots=5, n_qubits=5, name='k_means', qreg_sizes=[['qr', 5]], metadata={}), status=DONE, seed_simulator=1394983902, metadata={'noise': 'ideal', 'batched_shots_optimization': False, 'remapped_qubits': True, 'parallel_state_update': 1, 'parallel_shots': 8, 'device': 'CPU', 'active_input_qubits': [1, 2, 4], 'measure_sampling': False, 'num_clbits': 5, 'input_qubit_map': [[4, 2], [2, 1], [1, 0]], 'num_qubits': 3, 'method': 'statevector', 'fusion': {'applied': False, 'max_fused_qubits': 5, 'threshold': 14, 'enabled': True}}, time_taken=0.159087667)], date=2023-09-03T17:38:50.128233, status=COMPLETED, header=None, metadata={'mpi_rank': 0, 'num_mpi_processes': 1, 'num_processes_per_experiments': 1, 'max_gpu_memory_mb': 0, 'time_taken_execute': 0.159161083, 'max_memory_mb': 16384, 'parallel_experiments': 1, 'omp_enabled': True}, time_taken=0.16139864921569824)\n",
      "theta_1:1.32\n",
      "theta_2:1.33\n",
      "Result(backend_name='qasm_simulator', backend_version='0.12.2', qobj_id='', job_id='3e8e32b9-c467-4998-8fca-345341b848bf', success=True, results=[ExperimentResult(shots=1024, success=True, meas_level=2, data=ExperimentResultData(counts={'0x0': 1024}), header=QobjExperimentHeader(creg_sizes=[['cr', 5]], global_phase=9.992007221626409e-15, memory_slots=5, n_qubits=5, name='k_means', qreg_sizes=[['qr', 5]], metadata={}), status=DONE, seed_simulator=3643554546, metadata={'noise': 'ideal', 'batched_shots_optimization': False, 'remapped_qubits': True, 'parallel_state_update': 1, 'parallel_shots': 8, 'device': 'CPU', 'active_input_qubits': [1, 2, 4], 'measure_sampling': False, 'num_clbits': 5, 'input_qubit_map': [[4, 2], [2, 1], [1, 0]], 'num_qubits': 3, 'method': 'statevector', 'fusion': {'applied': False, 'max_fused_qubits': 5, 'threshold': 14, 'enabled': True}}, time_taken=0.164142834)], date=2023-09-03T17:38:50.324606, status=COMPLETED, header=None, metadata={'mpi_rank': 0, 'num_mpi_processes': 1, 'num_processes_per_experiments': 1, 'max_gpu_memory_mb': 0, 'time_taken_execute': 0.164214667, 'max_memory_mb': 16384, 'parallel_experiments': 1, 'omp_enabled': True}, time_taken=0.16625285148620605)\n",
      "theta_1:1.32\n",
      "theta_2:1.34\n",
      "Result(backend_name='qasm_simulator', backend_version='0.12.2', qobj_id='', job_id='2d62c7bc-a9b0-4797-bdc3-0ed3c4e16196', success=True, results=[ExperimentResult(shots=1024, success=True, meas_level=2, data=ExperimentResultData(counts={'0x4': 1, '0x0': 1023}), header=QobjExperimentHeader(creg_sizes=[['cr', 5]], global_phase=9.992007221626409e-15, memory_slots=5, n_qubits=5, name='k_means', qreg_sizes=[['qr', 5]], metadata={}), status=DONE, seed_simulator=779731035, metadata={'noise': 'ideal', 'batched_shots_optimization': False, 'remapped_qubits': True, 'parallel_state_update': 1, 'parallel_shots': 8, 'device': 'CPU', 'active_input_qubits': [1, 2, 4], 'measure_sampling': False, 'num_clbits': 5, 'input_qubit_map': [[4, 2], [2, 1], [1, 0]], 'num_qubits': 3, 'method': 'statevector', 'fusion': {'applied': False, 'max_fused_qubits': 5, 'threshold': 14, 'enabled': True}}, time_taken=0.166947125)], date=2023-09-03T17:38:50.523031, status=COMPLETED, header=None, metadata={'mpi_rank': 0, 'num_mpi_processes': 1, 'num_processes_per_experiments': 1, 'max_gpu_memory_mb': 0, 'time_taken_execute': 0.16701725, 'max_memory_mb': 16384, 'parallel_experiments': 1, 'omp_enabled': True}, time_taken=0.16919398307800293)\n",
      "theta_1:1.32\n",
      "theta_2:1.35\n",
      "Result(backend_name='qasm_simulator', backend_version='0.12.2', qobj_id='', job_id='33890df9-3f5f-417c-88ef-b9f3d53905c0', success=True, results=[ExperimentResult(shots=1024, success=True, meas_level=2, data=ExperimentResultData(counts={'0x0': 1024}), header=QobjExperimentHeader(creg_sizes=[['cr', 5]], global_phase=9.992007221626409e-15, memory_slots=5, n_qubits=5, name='k_means', qreg_sizes=[['qr', 5]], metadata={}), status=DONE, seed_simulator=4277023690, metadata={'noise': 'ideal', 'batched_shots_optimization': False, 'remapped_qubits': True, 'parallel_state_update': 1, 'parallel_shots': 8, 'device': 'CPU', 'active_input_qubits': [1, 2, 4], 'measure_sampling': False, 'num_clbits': 5, 'input_qubit_map': [[4, 2], [2, 1], [1, 0]], 'num_qubits': 3, 'method': 'statevector', 'fusion': {'applied': False, 'max_fused_qubits': 5, 'threshold': 14, 'enabled': True}}, time_taken=0.171096833)], date=2023-09-03T17:38:50.726854, status=COMPLETED, header=None, metadata={'mpi_rank': 0, 'num_mpi_processes': 1, 'num_processes_per_experiments': 1, 'max_gpu_memory_mb': 0, 'time_taken_execute': 0.171159917, 'max_memory_mb': 16384, 'parallel_experiments': 1, 'omp_enabled': True}, time_taken=0.17328405380249023)\n",
      "theta_1:1.33\n",
      "theta_2:1.34\n",
      "Result(backend_name='qasm_simulator', backend_version='0.12.2', qobj_id='', job_id='b8fcffa6-712a-4b6f-8146-2a9eea4e1cd0', success=True, results=[ExperimentResult(shots=1024, success=True, meas_level=2, data=ExperimentResultData(counts={'0x0': 1024}), header=QobjExperimentHeader(creg_sizes=[['cr', 5]], global_phase=9.992007221626409e-15, memory_slots=5, n_qubits=5, name='k_means', qreg_sizes=[['qr', 5]], metadata={}), status=DONE, seed_simulator=2913270211, metadata={'noise': 'ideal', 'batched_shots_optimization': False, 'remapped_qubits': True, 'parallel_state_update': 1, 'parallel_shots': 8, 'device': 'CPU', 'active_input_qubits': [1, 2, 4], 'measure_sampling': False, 'num_clbits': 5, 'input_qubit_map': [[4, 2], [2, 1], [1, 0]], 'num_qubits': 3, 'method': 'statevector', 'fusion': {'applied': False, 'max_fused_qubits': 5, 'threshold': 14, 'enabled': True}}, time_taken=0.175171375)], date=2023-09-03T17:38:50.935299, status=COMPLETED, header=None, metadata={'mpi_rank': 0, 'num_mpi_processes': 1, 'num_processes_per_experiments': 1, 'max_gpu_memory_mb': 0, 'time_taken_execute': 0.175249625, 'max_memory_mb': 16384, 'parallel_experiments': 1, 'omp_enabled': True}, time_taken=0.17743277549743652)\n",
      "theta_1:1.33\n",
      "theta_2:1.35\n",
      "Result(backend_name='qasm_simulator', backend_version='0.12.2', qobj_id='', job_id='f432ab09-cdfd-4b61-b1c1-cf02eb1a8dfe', success=True, results=[ExperimentResult(shots=1024, success=True, meas_level=2, data=ExperimentResultData(counts={'0x0': 1024}), header=QobjExperimentHeader(creg_sizes=[['cr', 5]], global_phase=9.992007221626409e-15, memory_slots=5, n_qubits=5, name='k_means', qreg_sizes=[['qr', 5]], metadata={}), status=DONE, seed_simulator=1622219742, metadata={'noise': 'ideal', 'batched_shots_optimization': False, 'remapped_qubits': True, 'parallel_state_update': 1, 'parallel_shots': 8, 'device': 'CPU', 'active_input_qubits': [1, 2, 4], 'measure_sampling': False, 'num_clbits': 5, 'input_qubit_map': [[4, 2], [2, 1], [1, 0]], 'num_qubits': 3, 'method': 'statevector', 'fusion': {'applied': False, 'max_fused_qubits': 5, 'threshold': 14, 'enabled': True}}, time_taken=0.179477458)], date=2023-09-03T17:38:51.147804, status=COMPLETED, header=None, metadata={'mpi_rank': 0, 'num_mpi_processes': 1, 'num_processes_per_experiments': 1, 'max_gpu_memory_mb': 0, 'time_taken_execute': 0.179552625, 'max_memory_mb': 16384, 'parallel_experiments': 1, 'omp_enabled': True}, time_taken=0.1817636489868164)\n",
      "theta_1:1.34\n",
      "theta_2:1.35\n"
     ]
    }
   ],
   "source": [
    "# create Quantum Register called \"qr\" with 5 qubits\n",
    "qr = QuantumRegister(5, name=\"qr\")\n",
    "# create Classical Register called \"cr\" with 5 bits\n",
    "cr = ClassicalRegister(5, name=\"cr\")\n",
    "    \n",
    "# Creating Quantum Circuit called \"qc\" involving your Quantum Register \"qr\"\n",
    "# and your Classical Register \"cr\"\n",
    "qc = QuantumCircuit(qr, cr, name=\"k_means\")\n",
    "    \n",
    "#Define a loop to compute the distance between each pair of points\n",
    "for i in range(9):\n",
    "    for j in range(1,10-i):\n",
    "        # Set the parament theta about different point\n",
    "        theta_1 = theta_list[i]\n",
    "        theta_2 = theta_list[i+j]\n",
    "        #Achieve the quantum circuit via qiskit\n",
    "        qc.h(qr[2])\n",
    "        qc.h(qr[1])\n",
    "        qc.h(qr[4])\n",
    "        qc.u(theta_1, pi, pi, qr[1])\n",
    "        qc.u(theta_2, pi, pi, qr[4])\n",
    "        qc.cswap(qr[2], qr[1], qr[4])\n",
    "        qc.h(qr[2])\n",
    "                \n",
    "        qc.measure(qr[2], cr[2])\n",
    "        qc.reset(qr)\n",
    "            \n",
    "        job = execute(qc,   backend=backend, shots=1024)\n",
    "        result = job.result()   \n",
    "        print(result)\n",
    "        print('theta_1:' + str(theta_1))\n",
    "        print('theta_2:' + str(theta_2))\n",
    "#         print( result.get_data(qc))\n",
    "        plot_histogram(result.get_counts())"
   ]
  },
  {
   "cell_type": "markdown",
   "metadata": {},
   "source": [
    "Here we achieve the function k_means() and the test main function to run the program. Considering the qubits controlling direction of ibmqx4, we takes the quantum register 1, 2, 4 as our working register, if you want to run this program on other computer, please redesign the circuit structure to ensure your program can be run accurately. "
   ]
  },
  {
   "cell_type": "markdown",
   "metadata": {},
   "source": [
    "## Result analysis\n",
    "In this program, we take the quantum register 1, 2, 4 as our operated register (considering the condition when using ibmqx4.) We take the quantum register 1, 4 storing the input information about data points, and the quantum register 2 as controlling register to decide whether to use the swap operator. To estimate the distance of any pair of data points, we use a loop to implement the K-Means Circuit. In the end, we measure the controlling register to judge the distance between two data points. The probability when we get 1 means that the distance between two data points."
   ]
  },
  {
   "cell_type": "markdown",
   "metadata": {},
   "source": [
    "## Reference\n",
    "<cite>[1].Quantum algorithms for supervised and unsupervised machine learning(*see open access: [ arXiv:1307.0411v2](https://arxiv.org/abs/1307.0411)*)</cite><a id='cite'></a>"
   ]
  },
  {
   "cell_type": "code",
   "execution_count": null,
   "outputs": [],
   "source": [],
   "metadata": {
    "collapsed": false
   }
  }
 ],
 "metadata": {
  "kernelspec": {
   "display_name": "Python 3",
   "language": "python",
   "name": "python3"
  },
  "language_info": {
   "codemirror_mode": {
    "name": "ipython",
    "version": 3
   },
   "file_extension": ".py",
   "mimetype": "text/x-python",
   "name": "python",
   "nbconvert_exporter": "python",
   "pygments_lexer": "ipython3",
   "version": "3.7.0"
  }
 },
 "nbformat": 4,
 "nbformat_minor": 2
}
